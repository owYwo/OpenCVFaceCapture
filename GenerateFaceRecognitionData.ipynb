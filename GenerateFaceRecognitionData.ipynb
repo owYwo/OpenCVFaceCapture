{
 "cells": [
  {
   "cell_type": "code",
   "execution_count": 1,
   "id": "51bd6226",
   "metadata": {},
   "outputs": [],
   "source": [
    "import cv2\n",
    "import os"
   ]
  },
  {
   "cell_type": "code",
   "execution_count": 2,
   "id": "bbf3f98b",
   "metadata": {},
   "outputs": [],
   "source": [
    "names = 'Yuwei'\n",
    "output_folder = 'E:/data/at/' + names\n",
    "if not os.path.exists(output_folder):\n",
    "    os.makedirs(output_folder)\n",
    "    \n",
    "face_cascade = cv2.CascadeClassifier('./cascades/haarcascade_frontalface_default.xml')\n",
    "eye_cascade = cv2.CascadeClassifier('./cascades/haarcascade_eye.xml')\n",
    "\n",
    "camera = cv2.VideoCapture(0)\n",
    "count = 0\n",
    "\n",
    "while (cv2.waitKey(1) == -1):\n",
    "    success, frame = camera.read()\n",
    "    if success:\n",
    "        gray = cv2.cvtColor(frame, cv2.COLOR_BGR2GRAY)\n",
    "        faces = face_cascade.detectMultiScale(gray, 1.3, 5, minSize = (120,120))\n",
    "        for (x,y,w,h) in faces:\n",
    "            cv2.rectangle(frame, (x,y), (x+w,y+h), (0,0,255), 3)\n",
    "            face_img = cv2.resize(gray[y:y+h, x:x+w], (200,200))\n",
    "            face_filename = '%s/%d.pgm'% (output_folder, count)\n",
    "            cv2.imwrite(face_filename, face_img)\n",
    "            count+=1\n",
    "        cv2.imshow('Capturing Faces ...', frame)\n",
    "\n",
    "cv2.destroyAllWindows()        "
   ]
  },
  {
   "cell_type": "code",
   "execution_count": null,
   "id": "b7a09a56",
   "metadata": {},
   "outputs": [],
   "source": []
  }
 ],
 "metadata": {
  "kernelspec": {
   "display_name": "Python 3 (ipykernel)",
   "language": "python",
   "name": "python3"
  },
  "language_info": {
   "codemirror_mode": {
    "name": "ipython",
    "version": 3
   },
   "file_extension": ".py",
   "mimetype": "text/x-python",
   "name": "python",
   "nbconvert_exporter": "python",
   "pygments_lexer": "ipython3",
   "version": "3.9.7"
  }
 },
 "nbformat": 4,
 "nbformat_minor": 5
}
