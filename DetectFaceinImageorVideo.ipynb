{
 "cells": [
  {
   "cell_type": "code",
   "execution_count": 1,
   "id": "b30e0245",
   "metadata": {},
   "outputs": [],
   "source": [
    "import cv2"
   ]
  },
  {
   "cell_type": "code",
   "execution_count": 3,
   "id": "e27109eb",
   "metadata": {},
   "outputs": [],
   "source": [
    "class RecFace():\n",
    "    def __init__(self, FrontalFacePath = './cascades/haarcascade_frontalface_default.xml'\n",
    "                 ,imgaePath = 'screenshot.png', EyePath = './cascades/haarcascade_eye.xml'):\n",
    "        self.FrontalFacePath = FrontalFacePath\n",
    "        self.EyePath = EyePath\n",
    "        \n",
    "        \n",
    "    def RecFaceinIMG(self):\n",
    "        face_cascade = cv2.CascadeClassifier(self.FrontalFacePath)\n",
    "        img = cv2.imread(self.imagePath)\n",
    "        gray = cv2.cvtColor(img, cv2.COLOR_BGR2GRAY)\n",
    "        faces = face_cascade.detectMultiScale(gray, 1.08, 5)\n",
    "        for (x, y, w, h) in faces:\n",
    "            img = cv2.rectangle(img, (x, y), (x+w, y+h), (255, 0, 0), 2)\n",
    "\n",
    "        cv2.imshow('Yuwei Detected!', img)\n",
    "        #cv2.imwrite('./This is Yuwei.jpg', img)\n",
    "        cv2.waitKey()\n",
    "        cv2.destroyAllWindows()\n",
    "    \n",
    "    def RecFaceinVideo(self):\n",
    "        face_cascade = cv2.CascadeClassifier(self.FrontalFacePath)\n",
    "        eye_cascade = cv2.CascadeClassifier(self.EyePath)\n",
    "        camera = cv2.VideoCapture(0)\n",
    "        while (cv2.waitKey(1) == -1):\n",
    "            success, frame = camera.read()\n",
    "            if success:\n",
    "                gray = cv2.cvtColor(frame, cv2.COLOR_BGR2GRAY)\n",
    "                faces = face_cascade.detectMultiScale(gray, 1.3, 5, minSize=(120, 120))\n",
    "                for (x, y, w, h) in faces:\n",
    "                    cv2.rectangle(frame, (x, y), (x+w, y+h), (255, 0, 0), 2)\n",
    "                    roi_gray = gray[y:y+h, x:x+w]\n",
    "                    eyes = eye_cascade.detectMultiScale(roi_gray, 1.1, 5, minSize=(40, 40))\n",
    "                    for (ex, ey, ew, eh) in eyes:\n",
    "                        cv2.rectangle(frame, (x+ex, y+ey), (x+ex+ew, y+ey+eh), (0, 255, 0), 2)\n",
    "            cv2.imshow('Face Detection', frame)\n",
    "        cv2.destroyAllWindows()"
   ]
  },
  {
   "cell_type": "code",
   "execution_count": 4,
   "id": "402ba9c3",
   "metadata": {},
   "outputs": [],
   "source": [
    "RecFace().RecFaceinVideo()"
   ]
  },
  {
   "cell_type": "code",
   "execution_count": null,
   "id": "5d12ce91",
   "metadata": {},
   "outputs": [],
   "source": []
  }
 ],
 "metadata": {
  "kernelspec": {
   "display_name": "Python 3 (ipykernel)",
   "language": "python",
   "name": "python3"
  },
  "language_info": {
   "codemirror_mode": {
    "name": "ipython",
    "version": 3
   },
   "file_extension": ".py",
   "mimetype": "text/x-python",
   "name": "python",
   "nbconvert_exporter": "python",
   "pygments_lexer": "ipython3",
   "version": "3.9.7"
  }
 },
 "nbformat": 4,
 "nbformat_minor": 5
}
